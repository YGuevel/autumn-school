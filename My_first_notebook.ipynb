{
 "cells": [
  {
   "cell_type": "markdown",
   "id": "8757444c-316c-4931-bad0-9ff2d8d4a7a9",
   "metadata": {},
   "source": [
    "My first cell"
   ]
  },
  {
   "cell_type": "code",
   "execution_count": null,
   "id": "bfb4e204-bc13-4b95-af91-b9094e5bb378",
   "metadata": {},
   "outputs": [],
   "source": [
    "from numbers import Number\n",
    "\n",
    "def add(a: Number, b: Number) -> Number:\n",
    "    return a + b"
   ]
  }
 ],
 "metadata": {
  "kernelspec": {
   "display_name": "Python 3 (ipykernel)",
   "language": "python",
   "name": "python3"
  },
  "language_info": {
   "codemirror_mode": {
    "name": "ipython",
    "version": 3
   },
   "file_extension": ".py",
   "mimetype": "text/x-python",
   "name": "python",
   "nbconvert_exporter": "python",
   "pygments_lexer": "ipython3",
   "version": "3.11.10"
  }
 },
 "nbformat": 4,
 "nbformat_minor": 5
}
