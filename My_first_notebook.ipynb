{
 "cells": [
  {
   "cell_type": "markdown",
   "id": "8757444c-316c-4931-bad0-9ff2d8d4a7a9",
   "metadata": {},
   "source": [
    "My first cell"
   ]
  },
  {
   "cell_type": "code",
   "execution_count": 1,
   "id": "bfb4e204-bc13-4b95-af91-b9094e5bb378",
   "metadata": {},
   "outputs": [],
   "source": [
    "from numbers import Number\n",
    "\n",
    "def add_number(a: Number, b: Number) -> Number:\n",
    "    return a - b"
   ]
  },
  {
   "cell_type": "code",
   "execution_count": 2,
   "id": "a5cfb10b-6ad9-4fdb-b93d-6ae9fffa166a",
   "metadata": {},
   "outputs": [],
   "source": [
    "def add_number(a: str, b: str) -> str:\n",
    "    return a + b"
   ]
  },
  {
   "cell_type": "code",
   "execution_count": 3,
   "id": "ff34e79f-13cf-4fea-b42c-4f7fa7efeaee",
   "metadata": {},
   "outputs": [],
   "source": [
    "import ipytest"
   ]
  },
  {
   "cell_type": "code",
   "execution_count": 4,
   "id": "fcceae6a-1bd6-4f9a-a56a-b7d50b64dd8f",
   "metadata": {},
   "outputs": [],
   "source": [
    "ipytest.autoconfig()"
   ]
  },
  {
   "cell_type": "code",
   "execution_count": 6,
   "id": "baee0f10-67f2-4821-b6e1-d09b2f80f827",
   "metadata": {},
   "outputs": [],
   "source": [
    "def test_addition():\n",
    "    assert add_number(1, 1) == 2"
   ]
  },
  {
   "cell_type": "code",
   "execution_count": 7,
   "id": "4440f8e2-66e8-46ec-8978-817668c8e5ad",
   "metadata": {},
   "outputs": [
    {
     "name": "stdout",
     "output_type": "stream",
     "text": [
      "\u001b[1m======================================= test session starts ========================================\u001b[0m\n",
      "platform linux -- Python 3.11.10, pytest-7.4.4, pluggy-1.0.0 -- /home/yann/anaconda3/envs/bw25/bin/python\n",
      "cachedir: .pytest_cache\n",
      "rootdir: /home/yann/0-ACTIVITES/Projets/20241111-BrightWay-Formation/Git_Test/autumn-school\n",
      "plugins: anyio-4.6.2.post1\n",
      "\u001b[1mcollecting ... \u001b[0mcollected 1 item\n",
      "\n",
      "t_f1645c74f153481da4029ebb1d2f19d4.py::test_addition \u001b[32mPASSED\u001b[0m\u001b[32m                                  [100%]\u001b[0m\n",
      "\n",
      "\u001b[32m======================================== \u001b[32m\u001b[1m1 passed\u001b[0m\u001b[32m in 0.01s\u001b[0m\u001b[32m =========================================\u001b[0m\n"
     ]
    },
    {
     "data": {
      "text/plain": [
       "<ExitCode.OK: 0>"
      ]
     },
     "execution_count": 7,
     "metadata": {},
     "output_type": "execute_result"
    }
   ],
   "source": [
    "ipytest.run('-vv')"
   ]
  },
  {
   "cell_type": "code",
   "execution_count": 8,
   "id": "81f106dc-43d1-4c32-9cec-6aac797970cf",
   "metadata": {},
   "outputs": [],
   "source": [
    "def mult_numb(a,b):\n",
    "    return a*b"
   ]
  },
  {
   "cell_type": "code",
   "execution_count": 10,
   "id": "bac58c98-26d8-4dc2-909e-145c4e247b86",
   "metadata": {},
   "outputs": [],
   "source": [
    "def test_mult():\n",
    "    assert mult_numb(2,3)==6"
   ]
  },
  {
   "cell_type": "code",
   "execution_count": 11,
   "id": "5454a27f-684d-4be6-92ad-e5750e558988",
   "metadata": {},
   "outputs": [
    {
     "name": "stdout",
     "output_type": "stream",
     "text": [
      "\u001b[1m======================================= test session starts ========================================\u001b[0m\n",
      "platform linux -- Python 3.11.10, pytest-7.4.4, pluggy-1.0.0 -- /home/yann/anaconda3/envs/bw25/bin/python\n",
      "cachedir: .pytest_cache\n",
      "rootdir: /home/yann/0-ACTIVITES/Projets/20241111-BrightWay-Formation/Git_Test/autumn-school\n",
      "plugins: anyio-4.6.2.post1\n",
      "\u001b[1mcollecting ... \u001b[0mcollected 2 items\n",
      "\n",
      "t_f1645c74f153481da4029ebb1d2f19d4.py::test_addition \u001b[32mPASSED\u001b[0m\u001b[32m                                  [ 50%]\u001b[0m\n",
      "t_f1645c74f153481da4029ebb1d2f19d4.py::test_mult \u001b[32mPASSED\u001b[0m\u001b[32m                                      [100%]\u001b[0m\n",
      "\n",
      "\u001b[32m======================================== \u001b[32m\u001b[1m2 passed\u001b[0m\u001b[32m in 0.01s\u001b[0m\u001b[32m =========================================\u001b[0m\n"
     ]
    },
    {
     "data": {
      "text/plain": [
       "<ExitCode.OK: 0>"
      ]
     },
     "execution_count": 11,
     "metadata": {},
     "output_type": "execute_result"
    }
   ],
   "source": [
    "ipytest.run('-vv')"
   ]
  },
  {
   "cell_type": "code",
   "execution_count": null,
   "id": "a63bf46a-33f9-41ad-8a4f-0ce27b49b3f1",
   "metadata": {},
   "outputs": [],
   "source": []
  }
 ],
 "metadata": {
  "kernelspec": {
   "display_name": "Python 3 (ipykernel)",
   "language": "python",
   "name": "python3"
  },
  "language_info": {
   "codemirror_mode": {
    "name": "ipython",
    "version": 3
   },
   "file_extension": ".py",
   "mimetype": "text/x-python",
   "name": "python",
   "nbconvert_exporter": "python",
   "pygments_lexer": "ipython3",
   "version": "3.11.10"
  }
 },
 "nbformat": 4,
 "nbformat_minor": 5
}
